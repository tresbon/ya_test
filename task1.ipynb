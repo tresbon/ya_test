{
 "cells": [
  {
   "cell_type": "code",
   "execution_count": 10,
   "metadata": {},
   "outputs": [],
   "source": [
    "import pandas as pd\n",
    "import os\n",
    "import seaborn as sns\n",
    "import matplotlib as mpl\n",
    "import matplotlib.pyplot as plt\n",
    "%matplotlib inline"
   ]
  },
  {
   "cell_type": "code",
   "execution_count": 2,
   "metadata": {},
   "outputs": [
    {
     "data": {
      "text/plain": [
       "count    7.018270e+05\n",
       "mean     5.681515e+02\n",
       "std      5.378995e+03\n",
       "min     -7.290000e+02\n",
       "25%      3.700000e+01\n",
       "50%      7.500000e+01\n",
       "75%      1.820000e+02\n",
       "max      1.074156e+06\n",
       "Name: time_for_microtask, dtype: float64"
      ]
     },
     "execution_count": 2,
     "metadata": {},
     "output_type": "execute_result"
    }
   ],
   "source": [
    "#Читаем данные\n",
    "df = pd.read_csv('data_task4_old.txt', sep='\\t', \n",
    "    dtype={\n",
    "    'tid':'Int64',\n",
    "    'Microtasks':'Int64',\n",
    "    'assigned_ts':'str',\n",
    "    'closed_ts':'str',\n",
    "    },\n",
    "    parse_dates=[\n",
    "    'assigned_ts',\n",
    "    'closed_ts',\n",
    "    ])\n",
    "\n",
    "#Считаем сколько секунд занимает один микротаск\n",
    "df['time_for_microtask'] = (df['closed_ts'] - df['assigned_ts']).dt.total_seconds() / df['Microtasks']\n",
    "#Смотрим статистику\n",
    "df['time_for_microtask'].describe()"
   ]
  },
  {
   "cell_type": "markdown",
   "metadata": {},
   "source": [
    "Минимум минус 7290 секунд. Видимо есть баг, нужно найти область где начинаются реалистичные значения\n",
    "Также не навится 75й прецентиль - слишком сильно отличается от медианы\n",
    "Посмотрим числовую гистограмму (прецентили)"
   ]
  },
  {
   "cell_type": "code",
   "execution_count": 3,
   "metadata": {},
   "outputs": [
    {
     "data": {
      "text/plain": [
       "0.01       9.250000\n",
       "0.03      13.000000\n",
       "0.05      15.800000\n",
       "0.07      18.000000\n",
       "0.09      20.000000\n",
       "0.11      22.125000\n",
       "0.13      24.250000\n",
       "0.15      26.300000\n",
       "0.17      28.400000\n",
       "0.19      30.500000\n",
       "0.21      32.666667\n",
       "0.23      35.000000\n",
       "0.25      37.000000\n",
       "0.27      39.000000\n",
       "0.29      41.800000\n",
       "0.31      44.000000\n",
       "0.33      46.666667\n",
       "0.35      49.000000\n",
       "0.37      52.000000\n",
       "0.39      55.000000\n",
       "0.41      58.000000\n",
       "0.43      61.500000\n",
       "0.45      65.000000\n",
       "0.47      69.000000\n",
       "0.49      73.000000\n",
       "0.51      77.000000\n",
       "0.53      81.500000\n",
       "0.55      86.375000\n",
       "0.57      92.000000\n",
       "0.59      98.000000\n",
       "0.61     104.200000\n",
       "0.63     111.534069\n",
       "0.65     119.800000\n",
       "0.67     129.000000\n",
       "0.69     139.000000\n",
       "0.71     151.000000\n",
       "0.73     165.000000\n",
       "0.75     182.000000\n",
       "0.77     201.286667\n",
       "0.79     225.500000\n",
       "0.81     256.000000\n",
       "0.83     294.350909\n",
       "0.85     345.000000\n",
       "0.87     417.000000\n",
       "0.89     518.000000\n",
       "0.91     675.000000\n",
       "0.93     941.000000\n",
       "0.95    1542.000000\n",
       "0.97    3314.355000\n",
       "0.99    8945.333143\n",
       "Name: time_for_microtask, dtype: float64"
      ]
     },
     "execution_count": 3,
     "metadata": {},
     "output_type": "execute_result"
    }
   ],
   "source": [
    "#Cмотрим распределение (нечётные прецентили, т.к. head показывает только 60 результатов)\n",
    "df['time_for_microtask'].quantile([i/100 for i in range(1,100,2)]).head(50)"
   ]
  },
  {
   "cell_type": "markdown",
   "metadata": {},
   "source": [
    "Попробуем посмотреть статиску по пользователям, убрав явный мусор - значения ниже первого перцентеля и значения выше 5 медиан\n",
    "Исхожу из гипотезы, что все микрозадания однородны\n",
    "Также, очевидно из-за высоких значений на верхних прецентилях медиана смещена (это может быть из-за технических причин, а может быть так часто уходят пить чай; причины требуют дополнительного исследования и дополнительных данных)"
   ]
  },
  {
   "cell_type": "code",
   "execution_count": 4,
   "metadata": {},
   "outputs": [],
   "source": [
    "descriptions = df[(df['time_for_microtask'] > 15) &\\\n",
    "    (df['time_for_microtask'] < 75*5)].groupby('login')\\\n",
    "        ['time_for_microtask'].describe()"
   ]
  },
  {
   "cell_type": "code",
   "execution_count": 5,
   "metadata": {},
   "outputs": [
    {
     "data": {
      "text/html": [
       "<div>\n",
       "<style scoped>\n",
       "    .dataframe tbody tr th:only-of-type {\n",
       "        vertical-align: middle;\n",
       "    }\n",
       "\n",
       "    .dataframe tbody tr th {\n",
       "        vertical-align: top;\n",
       "    }\n",
       "\n",
       "    .dataframe thead th {\n",
       "        text-align: right;\n",
       "    }\n",
       "</style>\n",
       "<table border=\"1\" class=\"dataframe\">\n",
       "  <thead>\n",
       "    <tr style=\"text-align: right;\">\n",
       "      <th></th>\n",
       "      <th>count</th>\n",
       "      <th>mean</th>\n",
       "      <th>std</th>\n",
       "      <th>min</th>\n",
       "      <th>25%</th>\n",
       "      <th>50%</th>\n",
       "      <th>75%</th>\n",
       "      <th>max</th>\n",
       "    </tr>\n",
       "    <tr>\n",
       "      <th>login</th>\n",
       "      <th></th>\n",
       "      <th></th>\n",
       "      <th></th>\n",
       "      <th></th>\n",
       "      <th></th>\n",
       "      <th></th>\n",
       "      <th></th>\n",
       "      <th></th>\n",
       "    </tr>\n",
       "  </thead>\n",
       "  <tbody>\n",
       "    <tr>\n",
       "      <th>login0</th>\n",
       "      <td>510.0</td>\n",
       "      <td>109.911234</td>\n",
       "      <td>97.000092</td>\n",
       "      <td>15.000000</td>\n",
       "      <td>28.083333</td>\n",
       "      <td>68.666667</td>\n",
       "      <td>185.625000</td>\n",
       "      <td>374.666667</td>\n",
       "    </tr>\n",
       "    <tr>\n",
       "      <th>login1</th>\n",
       "      <td>932.0</td>\n",
       "      <td>117.233307</td>\n",
       "      <td>77.202981</td>\n",
       "      <td>15.222222</td>\n",
       "      <td>58.187500</td>\n",
       "      <td>96.000000</td>\n",
       "      <td>155.400000</td>\n",
       "      <td>368.500000</td>\n",
       "    </tr>\n",
       "    <tr>\n",
       "      <th>login10</th>\n",
       "      <td>36.0</td>\n",
       "      <td>88.033796</td>\n",
       "      <td>69.567713</td>\n",
       "      <td>19.666667</td>\n",
       "      <td>43.000000</td>\n",
       "      <td>65.000000</td>\n",
       "      <td>107.975000</td>\n",
       "      <td>286.000000</td>\n",
       "    </tr>\n",
       "    <tr>\n",
       "      <th>login100</th>\n",
       "      <td>13.0</td>\n",
       "      <td>130.972436</td>\n",
       "      <td>105.862101</td>\n",
       "      <td>30.000000</td>\n",
       "      <td>56.375000</td>\n",
       "      <td>88.500000</td>\n",
       "      <td>180.000000</td>\n",
       "      <td>373.500000</td>\n",
       "    </tr>\n",
       "    <tr>\n",
       "      <th>login101</th>\n",
       "      <td>2123.0</td>\n",
       "      <td>85.658651</td>\n",
       "      <td>70.360451</td>\n",
       "      <td>15.055556</td>\n",
       "      <td>38.800000</td>\n",
       "      <td>61.600000</td>\n",
       "      <td>105.766667</td>\n",
       "      <td>374.000000</td>\n",
       "    </tr>\n",
       "    <tr>\n",
       "      <th>...</th>\n",
       "      <td>...</td>\n",
       "      <td>...</td>\n",
       "      <td>...</td>\n",
       "      <td>...</td>\n",
       "      <td>...</td>\n",
       "      <td>...</td>\n",
       "      <td>...</td>\n",
       "      <td>...</td>\n",
       "    </tr>\n",
       "    <tr>\n",
       "      <th>login95</th>\n",
       "      <td>1581.0</td>\n",
       "      <td>62.547212</td>\n",
       "      <td>49.722168</td>\n",
       "      <td>15.000000</td>\n",
       "      <td>32.000000</td>\n",
       "      <td>47.000000</td>\n",
       "      <td>73.000000</td>\n",
       "      <td>371.000000</td>\n",
       "    </tr>\n",
       "    <tr>\n",
       "      <th>login96</th>\n",
       "      <td>41.0</td>\n",
       "      <td>52.945664</td>\n",
       "      <td>41.097302</td>\n",
       "      <td>16.500000</td>\n",
       "      <td>25.000000</td>\n",
       "      <td>38.500000</td>\n",
       "      <td>65.000000</td>\n",
       "      <td>189.000000</td>\n",
       "    </tr>\n",
       "    <tr>\n",
       "      <th>login97</th>\n",
       "      <td>231.0</td>\n",
       "      <td>176.678329</td>\n",
       "      <td>95.547110</td>\n",
       "      <td>19.400000</td>\n",
       "      <td>99.000000</td>\n",
       "      <td>160.000000</td>\n",
       "      <td>253.750000</td>\n",
       "      <td>372.333333</td>\n",
       "    </tr>\n",
       "    <tr>\n",
       "      <th>login98</th>\n",
       "      <td>333.0</td>\n",
       "      <td>170.400030</td>\n",
       "      <td>95.373014</td>\n",
       "      <td>17.000000</td>\n",
       "      <td>96.000000</td>\n",
       "      <td>150.000000</td>\n",
       "      <td>242.000000</td>\n",
       "      <td>374.571429</td>\n",
       "    </tr>\n",
       "    <tr>\n",
       "      <th>login99</th>\n",
       "      <td>99.0</td>\n",
       "      <td>119.932925</td>\n",
       "      <td>99.155217</td>\n",
       "      <td>15.000000</td>\n",
       "      <td>49.416667</td>\n",
       "      <td>81.000000</td>\n",
       "      <td>161.166667</td>\n",
       "      <td>374.500000</td>\n",
       "    </tr>\n",
       "  </tbody>\n",
       "</table>\n",
       "<p>764 rows × 8 columns</p>\n",
       "</div>"
      ],
      "text/plain": [
       "           count        mean         std        min        25%         50%  \\\n",
       "login                                                                        \n",
       "login0     510.0  109.911234   97.000092  15.000000  28.083333   68.666667   \n",
       "login1     932.0  117.233307   77.202981  15.222222  58.187500   96.000000   \n",
       "login10     36.0   88.033796   69.567713  19.666667  43.000000   65.000000   \n",
       "login100    13.0  130.972436  105.862101  30.000000  56.375000   88.500000   \n",
       "login101  2123.0   85.658651   70.360451  15.055556  38.800000   61.600000   \n",
       "...          ...         ...         ...        ...        ...         ...   \n",
       "login95   1581.0   62.547212   49.722168  15.000000  32.000000   47.000000   \n",
       "login96     41.0   52.945664   41.097302  16.500000  25.000000   38.500000   \n",
       "login97    231.0  176.678329   95.547110  19.400000  99.000000  160.000000   \n",
       "login98    333.0  170.400030   95.373014  17.000000  96.000000  150.000000   \n",
       "login99     99.0  119.932925   99.155217  15.000000  49.416667   81.000000   \n",
       "\n",
       "                 75%         max  \n",
       "login                             \n",
       "login0    185.625000  374.666667  \n",
       "login1    155.400000  368.500000  \n",
       "login10   107.975000  286.000000  \n",
       "login100  180.000000  373.500000  \n",
       "login101  105.766667  374.000000  \n",
       "...              ...         ...  \n",
       "login95    73.000000  371.000000  \n",
       "login96    65.000000  189.000000  \n",
       "login97   253.750000  372.333333  \n",
       "login98   242.000000  374.571429  \n",
       "login99   161.166667  374.500000  \n",
       "\n",
       "[764 rows x 8 columns]"
      ]
     },
     "execution_count": 5,
     "metadata": {},
     "output_type": "execute_result"
    }
   ],
   "source": [
    "descriptions"
   ]
  },
  {
   "cell_type": "markdown",
   "metadata": {},
   "source": [
    "Большой размах разнообразия подсказывает, что пользователи выполняют разные работы. То есть скорее всего сами микротаски не однородны, не одинаковы, физически требуют разного времени на выполнение\n",
    "\n",
    "Для хорошего вывода необходимо также учесть тип микротаска (например, разметка изображения или ввод текста с изображения или ввод текста из аудио и т.д.) и оценивать необходимое время уже исходя из этого\n",
    "\n",
    "Предположим, что данные которые у нас есть - всё чем мы можем предполагать и продолжим"
   ]
  },
  {
   "cell_type": "code",
   "execution_count": 6,
   "metadata": {},
   "outputs": [
    {
     "data": {
      "text/plain": [
       "count    550.000000\n",
       "mean      88.844678\n",
       "std       37.741439\n",
       "min       25.000000\n",
       "25%       61.000000\n",
       "50%       82.398810\n",
       "75%      112.321429\n",
       "max      246.000000\n",
       "Name: 50%, dtype: float64"
      ]
     },
     "execution_count": 6,
     "metadata": {},
     "output_type": "execute_result"
    }
   ],
   "source": [
    "descriptions[descriptions['count']>100]['50%'].describe()"
   ]
  },
  {
   "cell_type": "markdown",
   "metadata": {},
   "source": [
    "Медиана медианного времени пользователей, сделавших более 100 заданий 82.4\n",
    "Близка к начальной медиане"
   ]
  },
  {
   "cell_type": "code",
   "execution_count": 30,
   "metadata": {},
   "outputs": [
    {
     "data": {
      "text/plain": [
       "<AxesSubplot:xlabel='50%'>"
      ]
     },
     "execution_count": 30,
     "metadata": {},
     "output_type": "execute_result"
    },
    {
     "data": {
      "image/png": "[encoded data removed]",
      "text/plain": [
       "<Figure size 432x288 with 1 Axes>"
      ]
     },
     "metadata": {
      "needs_background": "light"
     },
     "output_type": "display_data"
    }
   ],
   "source": [
    "sns.distplot(descriptions[descriptions['count']>100]['50%'])"
   ]
  },
  {
   "cell_type": "markdown",
   "metadata": {},
   "source": [
    "Распределение не пугающе отличается от нормального\n",
    "Тем не менее, медианное время смещено влево\n",
    "Возможно, всё-таки пользователи выполняют сущностно разные работы (на предоставленных данных невозможно проверить)\n",
    "Обращает внимание мода в районе 70 секунд"
   ]
  },
  {
   "cell_type": "raw",
   "metadata": {},
   "source": [
    "Исходя из этих данных, я бы предложил поставить оплату микрозадания в 2.5*N\n",
    "1. Это имперически удобно (менеджерам проще администировать такое значение, чем что-то вроде 2+sqrt(1,23223)*N)\n",
    "2. Это значение близко к среднему времени выполнения работы (без перерывов на чай)\n",
    "3. Оно чуть ниже настоящего среднего (для настоящего среднего коэффициент находится между 2.5 и 3, ближе к 3, при необходимости выплату за микротаск можно поднять до 3х для активации работников)"
   ]
  },
  {
   "cell_type": "code",
   "execution_count": null,
   "metadata": {},
   "outputs": [],
   "source": []
  }
 ],
 "metadata": {
  "kernelspec": {
   "display_name": "Python 3",
   "language": "python",
   "name": "python3"
  },
  "language_info": {
   "codemirror_mode": {
    "name": "ipython",
    "version": 3
   },
   "file_extension": ".py",
   "mimetype": "text/x-python",
   "name": "python",
   "nbconvert_exporter": "python",
   "pygments_lexer": "ipython3",
   "version": "3.7.6"
  }
 },
 "nbformat": 4,
 "nbformat_minor": 4
}
